{
  "cells": [
    {
      "cell_type": "code",
      "execution_count": 14,
      "metadata": {
        "colab": {
          "base_uri": "https://localhost:8080/"
        },
        "id": "sM8LoWA9tu77",
        "outputId": "820caff8-1ab0-425a-9305-28a2f98c9892"
      },
      "outputs": [
        {
          "output_type": "stream",
          "name": "stdout",
          "text": [
            "4\n"
          ]
        }
      ],
      "source": [
        "def number_of_word(sentence):\n",
        "  print(len(sentence.split()))\n",
        "number_of_word(\"test 1 2 3\")"
      ]
    },
    {
      "cell_type": "code",
      "execution_count": 15,
      "metadata": {
        "colab": {
          "base_uri": "https://localhost:8080/"
        },
        "id": "wDjX-FrFsGh6",
        "outputId": "a7247ef9-6455-4fa1-efac-d70bceb65598"
      },
      "outputs": [
        {
          "output_type": "stream",
          "name": "stdout",
          "text": [
            "5\n",
            "10\n",
            "15\n",
            "20\n"
          ]
        }
      ],
      "source": [
        "def find_multiples(start_range, end_range, multiples):\n",
        "  for x in range(start_range, end_range+1):\n",
        "    if x % multiples == 0:\n",
        "      print(x)\n",
        "find_multiples(1, 20, 5)"
      ]
    },
    {
      "cell_type": "code",
      "execution_count": null,
      "metadata": {
        "id": "z9-07vhbTa1Y"
      },
      "outputs": [],
      "source": [
        "def grade_converter(convert_to, name, grade):\n",
        "  if convert_to = 'gpa':"
      ]
    }
  ],
  "metadata": {
    "colab": {
      "provenance": []
    },
    "kernelspec": {
      "display_name": "Python 3",
      "name": "python3"
    },
    "language_info": {
      "codemirror_mode": {
        "name": "ipython",
        "version": 3
      },
      "file_extension": ".py",
      "mimetype": "text/x-python",
      "name": "python",
      "nbconvert_exporter": "python",
      "pygments_lexer": "ipython3",
      "version": "3.11.4"
    }
  },
  "nbformat": 4,
  "nbformat_minor": 0
}